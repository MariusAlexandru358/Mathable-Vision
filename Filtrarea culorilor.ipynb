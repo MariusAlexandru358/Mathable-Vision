{
 "cells": [
  {
   "cell_type": "code",
   "execution_count": 2,
   "id": "6469efb3-d668-4d80-8f1f-747bd3997e30",
   "metadata": {},
   "outputs": [
    {
     "name": "stdout",
     "output_type": "stream",
     "text": [
      "Defaulting to user installation because normal site-packages is not writeable\n",
      "Requirement already satisfied: opencv-python in c:\\users\\crist\\appdata\\roaming\\python\\python312\\site-packages (4.10.0.84)\n",
      "Requirement already satisfied: numpy>=1.21.2 in c:\\users\\crist\\appdata\\roaming\\python\\python312\\site-packages (from opencv-python) (1.26.3)\n"
     ]
    },
    {
     "name": "stderr",
     "output_type": "stream",
     "text": [
      "\n",
      "[notice] A new release of pip is available: 24.2 -> 24.3.1\n",
      "[notice] To update, run: python.exe -m pip install --upgrade pip\n"
     ]
    },
    {
     "name": "stdout",
     "output_type": "stream",
     "text": [
      "Defaulting to user installation because normal site-packages is not writeable\n",
      "Requirement already satisfied: matplotlib in c:\\users\\crist\\appdata\\roaming\\python\\python312\\site-packages (3.9.2)\n",
      "Requirement already satisfied: contourpy>=1.0.1 in c:\\users\\crist\\appdata\\roaming\\python\\python312\\site-packages (from matplotlib) (1.3.1)\n",
      "Requirement already satisfied: cycler>=0.10 in c:\\users\\crist\\appdata\\roaming\\python\\python312\\site-packages (from matplotlib) (0.12.1)\n",
      "Requirement already satisfied: fonttools>=4.22.0 in c:\\users\\crist\\appdata\\roaming\\python\\python312\\site-packages (from matplotlib) (4.55.0)\n",
      "Requirement already satisfied: kiwisolver>=1.3.1 in c:\\users\\crist\\appdata\\roaming\\python\\python312\\site-packages (from matplotlib) (1.4.7)\n",
      "Requirement already satisfied: numpy>=1.23 in c:\\users\\crist\\appdata\\roaming\\python\\python312\\site-packages (from matplotlib) (1.26.3)\n",
      "Requirement already satisfied: packaging>=20.0 in c:\\program files\\python312\\lib\\site-packages (from matplotlib) (23.2)\n",
      "Requirement already satisfied: pillow>=8 in c:\\program files\\python312\\lib\\site-packages (from matplotlib) (10.2.0)\n",
      "Requirement already satisfied: pyparsing>=2.3.1 in c:\\users\\crist\\appdata\\roaming\\python\\python312\\site-packages (from matplotlib) (3.2.0)\n",
      "Requirement already satisfied: python-dateutil>=2.7 in c:\\users\\crist\\appdata\\roaming\\python\\python312\\site-packages (from matplotlib) (2.9.0.post0)\n",
      "Requirement already satisfied: six>=1.5 in c:\\users\\crist\\appdata\\roaming\\python\\python312\\site-packages (from python-dateutil>=2.7->matplotlib) (1.16.0)\n"
     ]
    },
    {
     "name": "stderr",
     "output_type": "stream",
     "text": [
      "\n",
      "[notice] A new release of pip is available: 24.2 -> 24.3.1\n",
      "[notice] To update, run: python.exe -m pip install --upgrade pip\n"
     ]
    }
   ],
   "source": [
    "!pip install opencv-python\n",
    "!pip install matplotlib"
   ]
  },
  {
   "cell_type": "code",
   "execution_count": 3,
   "id": "3b973af6",
   "metadata": {},
   "outputs": [],
   "source": [
    "import numpy as np\n",
    "import cv2 as cv\n",
    "import os\n",
    "import glob\n",
    "import matplotlib.pyplot as plt\n",
    "from numpy.random import uniform\n",
    "import pdb"
   ]
  },
  {
   "cell_type": "code",
   "execution_count": 4,
   "id": "e2588322",
   "metadata": {},
   "outputs": [],
   "source": [
    "def find_color_values_using_trackbar(frame):\n",
    "\n",
    "    frame_hsv = cv.cvtColor(frame, cv.COLOR_BGR2HSV)\n",
    " \n",
    "    def nothing(x):\n",
    "        pass\n",
    "\n",
    "    cv.namedWindow(\"Trackbar\") \n",
    "    cv.resizeWindow(\"Trackbar\", 400, 300)  # Resize to fit your screen\n",
    "    cv.createTrackbar(\"LH\", \"Trackbar\", 0, 255, nothing)\n",
    "    cv.createTrackbar(\"LS\", \"Trackbar\", 0, 255, nothing)\n",
    "    cv.createTrackbar(\"LV\", \"Trackbar\", 0, 255, nothing)\n",
    "    cv.createTrackbar(\"UH\", \"Trackbar\", 255, 255, nothing)\n",
    "    cv.createTrackbar(\"US\", \"Trackbar\", 255, 255, nothing)\n",
    "    cv.createTrackbar(\"UV\", \"Trackbar\", 255, 255, nothing)\n",
    "    \n",
    "    \n",
    "    while True:\n",
    "\n",
    "        l_h = cv.getTrackbarPos(\"LH\", \"Trackbar\")\n",
    "        l_s = cv.getTrackbarPos(\"LS\", \"Trackbar\")\n",
    "        l_v = cv.getTrackbarPos(\"LV\", \"Trackbar\")\n",
    "        u_h = cv.getTrackbarPos(\"UH\", \"Trackbar\")\n",
    "        u_s = cv.getTrackbarPos(\"US\", \"Trackbar\")\n",
    "        u_v = cv.getTrackbarPos(\"UV\", \"Trackbar\")\n",
    "\n",
    "\n",
    "        l = np.array([l_h, l_s, l_v])\n",
    "        u = np.array([u_h, u_s, u_v])\n",
    "        mask_table_hsv = cv.inRange(frame_hsv, l, u)        \n",
    "\n",
    "        res = cv.bitwise_and(frame, frame, mask=mask_table_hsv)    \n",
    "        # Resize display windows\n",
    "        cv.namedWindow(\"Frame\", cv.WINDOW_NORMAL)\n",
    "        cv.resizeWindow(\"Frame\", 768, 1020)  # Resize as needed\n",
    "        cv.imshow(\"Frame\", frame)\n",
    "\n",
    "        cv.namedWindow(\"Mask\", cv.WINDOW_NORMAL)\n",
    "        cv.resizeWindow(\"Mask\", 768, 1020)  # Resize as needed\n",
    "        cv.imshow(\"Mask\", mask_table_hsv)\n",
    "\n",
    "        cv.namedWindow(\"Res\", cv.WINDOW_NORMAL)\n",
    "        cv.resizeWindow(\"Res\", 768, 1020)  # Resize as needed\n",
    "        cv.imshow(\"Res\", res)\n",
    "\n",
    "\n",
    "        if cv.waitKey(25) & 0xFF == ord('q'):\n",
    "                break\n",
    "    cv.destroyAllWindows()"
   ]
  },
  {
   "cell_type": "code",
   "execution_count": 36,
   "id": "ab73d97b",
   "metadata": {},
   "outputs": [],
   "source": [
    "img = cv.imread(\"../imagini_auxiliare/03.jpg\")\n",
    "find_color_values_using_trackbar(img)"
   ]
  },
  {
   "cell_type": "code",
   "execution_count": 7,
   "id": "a91bbc1d",
   "metadata": {},
   "outputs": [],
   "source": [
    "low_yellow = (15, 105, 105)\n",
    "high_yellow = (90, 255, 255)\n",
    "img_hsv = cv.cvtColor(img, cv.COLOR_BGR2HSV)\n",
    "mask_yellow_hsv = cv.inRange(img_hsv, low_yellow, high_yellow)\n",
    "\n",
    "cv.namedWindow(\"img_initial\", cv.WINDOW_NORMAL)\n",
    "#cv.resizeWindow(\"img_initial\", 768, 1020)  # Resize as needed\n",
    "cv.imshow('img_initial', img)\n",
    "\n",
    "cv.namedWindow(\"mask_yellow_hsv\", cv.WINDOW_NORMAL)\n",
    "#cv.resizeWindow(\"mask_yellow_hsv\", 768, 1020)  # Resize as needed\n",
    "cv.imshow('mask_yellow_hsv', mask_yellow_hsv)\n",
    "\n",
    "cv.waitKey(0)\n",
    "cv.destroyAllWindows()"
   ]
  },
  {
   "cell_type": "code",
   "execution_count": 16,
   "id": "31cd69be",
   "metadata": {},
   "outputs": [],
   "source": [
    "img = cv.imread(\"../imagini_auxiliare/03.jpg\")\n",
    "low_group = (15, 0, 144)\n",
    "high_group = (255, 255, 255)\n",
    "img_hsv = cv.cvtColor(img, cv.COLOR_BGR2HSV)\n",
    "mask_group_hsv = cv.inRange(img_hsv, low_group, high_group)\n",
    "\n",
    "cv.namedWindow(\"img_initial\", cv.WINDOW_NORMAL)\n",
    "cv.resizeWindow(\"img_initial\", 768, 1020)  # Resize as needed\n",
    "cv.imshow('img_initial', img)\n",
    "\n",
    "cv.namedWindow(\"mask_group_hsv\", cv.WINDOW_NORMAL)\n",
    "cv.resizeWindow(\"mask_group_hsv\", 768, 1020)  # Resize as needed\n",
    "cv.imshow('mask_group_hsv', mask_group_hsv)\n",
    "\n",
    "res = cv.bitwise_and(img, img, mask=mask_group_hsv)   \n",
    "cv.namedWindow(\"Res\", cv.WINDOW_NORMAL)\n",
    "cv.resizeWindow(\"Res\", 768, 1020)  # Resize as needed\n",
    "cv.imshow(\"Res\", res)\n",
    "\n",
    "cv.imwrite(\"myaux/mask_full_blue_table_03.jpg\", mask_group_hsv)  \n",
    "cv.imwrite(\"myaux/full_blue_table_03.jpg\", res)               \n",
    "\n",
    "cv.waitKey(0)\n",
    "cv.destroyAllWindows()"
   ]
  },
  {
   "cell_type": "code",
   "execution_count": 29,
   "id": "ce949953-295f-4d23-81d7-a386262663b0",
   "metadata": {},
   "outputs": [],
   "source": [
    "img = cv.imread(\"../imagini_auxiliare/03.jpg\")\n",
    "low_group = (15, 0, 140)\n",
    "high_group = (255, 90, 255)\n",
    "img_hsv = cv.cvtColor(img, cv.COLOR_BGR2HSV)\n",
    "mask_group_hsv = cv.inRange(img_hsv, low_group, high_group)\n",
    "\n",
    "cv.namedWindow(\"img_initial\", cv.WINDOW_NORMAL)\n",
    "cv.resizeWindow(\"img_initial\", 768, 1020)  # Resize as needed\n",
    "cv.imshow('img_initial', img)\n",
    "\n",
    "cv.namedWindow(\"mask_group_hsv\", cv.WINDOW_NORMAL)\n",
    "cv.resizeWindow(\"mask_group_hsv\", 768, 1020)  # Resize as needed\n",
    "cv.imshow('mask_group_hsv', mask_group_hsv)\n",
    "\n",
    "res = cv.bitwise_and(img, img, mask=mask_group_hsv)   \n",
    "cv.namedWindow(\"Res\", cv.WINDOW_NORMAL)\n",
    "cv.resizeWindow(\"Res\", 768, 1020)  # Resize as needed\n",
    "cv.imshow(\"Res\", res)\n",
    "\n",
    "cv.imwrite(\"myaux/mask_dark_table_03.jpg\", mask_group_hsv)  \n",
    "cv.imwrite(\"myaux/dark_table_03.jpg\", res)               \n",
    "\n",
    "cv.waitKey(0)\n",
    "cv.destroyAllWindows()"
   ]
  },
  {
   "cell_type": "code",
   "execution_count": 26,
   "id": "60a683cf-6ba4-4e08-9ff5-8e2b988236f6",
   "metadata": {},
   "outputs": [],
   "source": [
    "img = cv.imread(\"../imagini_auxiliare/03.jpg\")\n",
    "low_group = (15, 90, 0)\n",
    "high_group = (255, 255, 255)\n",
    "img_hsv = cv.cvtColor(img, cv.COLOR_BGR2HSV)\n",
    "mask_group_hsv = cv.inRange(img_hsv, low_group, high_group)\n",
    "\n",
    "cv.namedWindow(\"img_initial\", cv.WINDOW_NORMAL)\n",
    "cv.resizeWindow(\"img_initial\", 768, 1020)  # Resize as needed\n",
    "cv.imshow('img_initial', img)\n",
    "\n",
    "cv.namedWindow(\"mask_group_hsv\", cv.WINDOW_NORMAL)\n",
    "cv.resizeWindow(\"mask_group_hsv\", 768, 1020)  # Resize as needed\n",
    "cv.imshow('mask_group_hsv', mask_group_hsv)\n",
    "\n",
    "res = cv.bitwise_and(img, img, mask=mask_group_hsv)   \n",
    "cv.namedWindow(\"Res\", cv.WINDOW_NORMAL)\n",
    "cv.resizeWindow(\"Res\", 768, 1020)  # Resize as needed\n",
    "cv.imshow(\"Res\", res)\n",
    "\n",
    "cv.imwrite(\"myaux/mask_boost_filter_03.jpg\", mask_group_hsv)  \n",
    "cv.imwrite(\"myaux/boost_filter_03.jpg\", res)               \n",
    "\n",
    "cv.waitKey(0)\n",
    "cv.destroyAllWindows()"
   ]
  }
 ],
 "metadata": {
  "kernelspec": {
   "display_name": "Python 3 (ipykernel)",
   "language": "python",
   "name": "python3"
  },
  "language_info": {
   "codemirror_mode": {
    "name": "ipython",
    "version": 3
   },
   "file_extension": ".py",
   "mimetype": "text/x-python",
   "name": "python",
   "nbconvert_exporter": "python",
   "pygments_lexer": "ipython3",
   "version": "3.12.6"
  }
 },
 "nbformat": 4,
 "nbformat_minor": 5
}
